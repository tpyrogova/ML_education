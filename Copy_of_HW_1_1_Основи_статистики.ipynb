{
  "nbformat": 4,
  "nbformat_minor": 0,
  "metadata": {
    "colab": {
      "provenance": [],
      "include_colab_link": true
    },
    "kernelspec": {
      "name": "python3",
      "display_name": "Python 3"
    },
    "language_info": {
      "name": "python"
    }
  },
  "cells": [
    {
      "cell_type": "markdown",
      "metadata": {
        "id": "view-in-github",
        "colab_type": "text"
      },
      "source": [
        "<a href=\"https://colab.research.google.com/github/tpyrogova/ML_education/blob/main/Copy_of_HW_1_1_%D0%9E%D1%81%D0%BD%D0%BE%D0%B2%D0%B8_%D1%81%D1%82%D0%B0%D1%82%D0%B8%D1%81%D1%82%D0%B8%D0%BA%D0%B8.ipynb\" target=\"_parent\"><img src=\"https://colab.research.google.com/assets/colab-badge.svg\" alt=\"Open In Colab\"/></a>"
      ]
    },
    {
      "cell_type": "markdown",
      "source": [
        "В цьому домашньому завданні відпрацюємо з вами знання, отримані в модулі зі статистики.\n",
        "\n",
        "**Завдання 1.** Ми обговорили з Вами на лекції, що велика літера Сігма грецького алфавіту позначає в математиці суму. Знайдіть з використанням Python $\\Sigma x$, $\\Sigma x^2$, та $\\Sigma (x-1)^2$ для наступного набору даних:\n",
        "`1 3 4`\n",
        "Виведіть результат кожного обчислення на екран."
      ],
      "metadata": {
        "id": "SDhaTqxcWhnP"
      }
    },
    {
      "cell_type": "code",
      "source": [
        "data = [1,3,4]\n",
        "sum1=0\n",
        "sum2=0\n",
        "sum3=0\n",
        "\n",
        "for i in data:\n",
        "  sum1+=i\n",
        "  sum2+=i**2\n",
        "  sum3+=(i-1)**2\n",
        "\n",
        "print(sum1)\n",
        "print(sum2)\n",
        "print(sum3)"
      ],
      "metadata": {
        "id": "B1mgx_IBT0e8",
        "colab": {
          "base_uri": "https://localhost:8080/"
        },
        "outputId": "53bd4808-b61c-41f5-9b58-8b18cbb8535e"
      },
      "execution_count": 3,
      "outputs": [
        {
          "output_type": "stream",
          "name": "stdout",
          "text": [
            "8\n",
            "26\n",
            "13\n"
          ]
        }
      ]
    },
    {
      "cell_type": "markdown",
      "source": [
        "В цьому домашньому завданні відпрацюємо з вами знання, отримані в модулі зі статистики.\n",
        "\n",
        "**Завдання 1.** Ми обговорили з Вами на лекції, що велика літера Сігма грецького алфавіту позначає в математиці суму. Знайдіть з використанням Python $\\Sigma x$, $\\Sigma x^2$, та $\\Sigma (x-1)^2$ для наступного набору даних:\n",
        "`1 3 4`\n",
        "Виведіть результат кожного обчислення на екран."
      ],
      "metadata": {
        "id": "Qz5sVrbJt9SX"
      }
    },
    {
      "cell_type": "markdown",
      "source": [
        "**Завдання 2.** Ми зібрали дані про суму покупок в гривнях 20ма випадково обраними клієнтами в нашому магазині (всього клієнтів у нас більше) за минулий місяць. Вони представлені в змінній `sum_purchases`. Знайдіть **вибіркове середнє** для цих даних кожним з зазначених методів:   \n",
        "\n",
        "  2.1. без використання жодних бібліотек, користуючись тільки Python.  \n",
        "  2.2. використовуючи відповідний метод бібліотеки `numpy`.\n",
        "\n",
        "  Виведіть результат обчислень в кожному з випадків на екран та порівняйте результати. Вони співпадають?"
      ],
      "metadata": {
        "id": "fa78aW5lhiia"
      }
    },
    {
      "cell_type": "code",
      "execution_count": 4,
      "metadata": {
        "id": "_9kMt3rq6V5m"
      },
      "outputs": [],
      "source": [
        "sum_purchases = [ 316,  493,  367,  153,  224,  121,  322,  450,  196,  397,  281,\n",
        "  239,  484,  124,  223,  448,  432,  255, 4310, 3524]"
      ]
    },
    {
      "cell_type": "code",
      "source": [
        "import numpy as np\n",
        "mean_py=0\n",
        "mean_np=0\n",
        "\n",
        "for val in sum_purchases:\n",
        " mean_py+=val\n",
        "\n",
        "mean_py = mean_py/len(sum_purchases)\n",
        "\n",
        "mean_np = np.mean(sum_purchases)\n",
        "\n",
        "print (mean_py)\n",
        "print (mean_np)"
      ],
      "metadata": {
        "id": "wPmL919HT1c0",
        "colab": {
          "base_uri": "https://localhost:8080/"
        },
        "outputId": "0029b9c0-0644-480c-fc8b-632a64c5dd58"
      },
      "execution_count": 5,
      "outputs": [
        {
          "output_type": "stream",
          "name": "stdout",
          "text": [
            "667.95\n",
            "667.95\n"
          ]
        }
      ]
    },
    {
      "cell_type": "markdown",
      "source": [
        "**Завдання 3.** Для того ж набору даних в змінній `sum_purchases` обчисліть **медіану** кожним з зазначених методів:  \n",
        "\n",
        "  3.1. без використання жодних бібліотек, користуючись тільки Python.  \n",
        "  3.2. використовуючи відповідний метод бібліотеки numpy.  \n",
        "\n",
        "Виведіть результат обчислень в кожному з випадків на екран. Порівняйте результати зі значенням вибіркового середнього. Напишіть коментар, для яких задач ви б використовували вибіркове середнє, а для яких - медіану?"
      ],
      "metadata": {
        "id": "FMdoxZd0kZdW"
      }
    },
    {
      "cell_type": "code",
      "source": [
        "import numpy as np\n",
        "median_py=0\n",
        "median_np=0\n",
        "\n",
        "sum_purchases.sort()\n",
        "\n",
        "print(sum_purchases)\n",
        "print(len(sum_purchases))\n",
        "\n",
        "median_py=(sum_purchases[9]+sum_purchases[10])/2\n",
        "\n",
        "median_np = np.median(sum_purchases)\n",
        "\n",
        "print (median_py)\n",
        "print (median_np)\n",
        "\n",
        "#залежить від рівномірності даних і важливості врахування викидів."
      ],
      "metadata": {
        "id": "x58BumvuT2nl",
        "colab": {
          "base_uri": "https://localhost:8080/"
        },
        "outputId": "41d0af03-5277-4960-eae8-e7d0b8a12d29"
      },
      "execution_count": 6,
      "outputs": [
        {
          "output_type": "stream",
          "name": "stdout",
          "text": [
            "[121, 124, 153, 196, 223, 224, 239, 255, 281, 316, 322, 367, 397, 432, 448, 450, 484, 493, 3524, 4310]\n",
            "20\n",
            "319.0\n",
            "319.0\n"
          ]
        }
      ]
    },
    {
      "cell_type": "markdown",
      "source": [
        "**Завдання 4**. Обчислість стандартне відхилення наведеної вибірки в змінній `sum_purchases` кожним з зазначених методів:  \n",
        "\n",
        "  4.1. без використання жодних бібліотек, користуючись тільки Python.  \n",
        "  4.2. використовуючи відповідний метод бібліотеки numpy.  \n",
        "\n",
        "Виведіть результат обчислень в кожному з випадків на екран."
      ],
      "metadata": {
        "id": "o1Z7az2yNDQV"
      }
    },
    {
      "cell_type": "code",
      "source": [
        "import numpy as np\n",
        "mean_py=0\n",
        "step1 = 0\n",
        "\n",
        "for val in sum_purchases:\n",
        " mean_py+=val\n",
        "\n",
        "mean_py = mean_py/len(sum_purchases)\n",
        "\n",
        "for val in sum_purchases:\n",
        " step1 += (val-mean_py)**2\n",
        "\n",
        "\n",
        "step2 = (step1 / (len(sum_purchases) - 1)) ** 0.5\n",
        "\n",
        "print (step2)\n",
        "\n",
        "st_dev_np = np.std(sum_purchases,ddof=1)\n",
        "\n",
        "print (st_dev_np)\n"
      ],
      "metadata": {
        "id": "X4ixtmL2T642",
        "colab": {
          "base_uri": "https://localhost:8080/"
        },
        "outputId": "7425f6d9-406d-40f0-864a-f09466be554b"
      },
      "execution_count": 7,
      "outputs": [
        {
          "output_type": "stream",
          "name": "stdout",
          "text": [
            "1124.5433447451132\n",
            "1124.5433447451132\n"
          ]
        }
      ]
    },
    {
      "cell_type": "markdown",
      "source": [
        "**Завдання 5**. Ми провели дослідження віку студентів-першокурсників. Виявилось, що\n",
        "- 10 студентів мають вік 16 років\n",
        "- 25 студентів - 17 років\n",
        "- 20 студентів - 18 років\n",
        "- 2 студенти - 20 років\n",
        "\n",
        "Обчислість середнє значення для цієї вибірки будь-яким способом - на чистому Python або з numpy - та виведіть результат на екран."
      ],
      "metadata": {
        "id": "M1ntKTjXLVlH"
      }
    },
    {
      "cell_type": "code",
      "source": [
        "part1 = np.full(10, 16)\n",
        "part2 = np.full(25, 17)\n",
        "part3 = np.full(20, 18)\n",
        "part4 = np.full(2, 20)\n",
        "\n",
        "data= np.concatenate((part1, part2,part3,part4))\n",
        "\n",
        "\n",
        "mean_py=0\n",
        "\n",
        "for val in data:\n",
        " mean_py+=val\n",
        "\n",
        "mean_py = mean_py/len(data)\n",
        "\n",
        "print (mean_py)\n"
      ],
      "metadata": {
        "id": "RdIU4M-7T8R4",
        "colab": {
          "base_uri": "https://localhost:8080/"
        },
        "outputId": "379bfc7e-07b4-4ca5-ae70-93f7a0b14880"
      },
      "execution_count": 23,
      "outputs": [
        {
          "output_type": "stream",
          "name": "stdout",
          "text": [
            "17.280701754385966\n"
          ]
        }
      ]
    },
    {
      "cell_type": "markdown",
      "source": [
        "**Завдання 6**. Крім даних про суму покупок, ми зібрали ще дані про кількість відвідувань кожного з кожного покупця, які знаходяться в змінній `visits`. Обчисліть коефіцієнт кореляції Пірсона для суми покупок і кількості відвідувань кожним з зазначених методів:  \n",
        "\n",
        "  6.1. без використання жодних бібліотек, користуючись тільки Python.  \n",
        "  6.2. використовуючи відповідний метод бібліотеки numpy.  \n",
        "  \n",
        "Виведіть результат на екран. Проаналізуйте результат.\n",
        "\n",
        "Виведіть додатково графік розсіювання викликавши код нижче і зробіть заключення, чи варто щось змінити при підрахунку кореляції, аби коефіцієнт Пірсона показував коректну оцінку лінійної залежності?"
      ],
      "metadata": {
        "id": "Xx8MFkkVM53z"
      }
    },
    {
      "cell_type": "code",
      "source": [
        "visits = [ 6,  2, 10,  3,  9,  9,  2,  3,  6,  6, 10,  2,  5, 10,  3,  5,  4,\n",
        "        7,  4,  2]"
      ],
      "metadata": {
        "id": "4OIGBT7UOWhO"
      },
      "execution_count": 21,
      "outputs": []
    },
    {
      "cell_type": "code",
      "source": [
        "n = len(visits)\n",
        "\n",
        "mean_visits = sum(visits) / n\n",
        "mean_purchases = sum(sum_purchases) / n\n",
        "\n",
        "numerator = sum((visits[i] - mean_visits) * (sum_purchases[i] - mean_purchases) for i in range(n))\n",
        "denominator = (sum((visits[i] - mean_visits) ** 2 for i in range(n)) *\n",
        "               sum((sum_purchases[i] - mean_purchases) ** 2 for i in range(n))) ** 0.5\n",
        "\n",
        "pearson_corr = numerator / denominator\n",
        "\n",
        "print(pearson_corr)\n",
        "\n",
        "\n",
        "visits = np.array(visits)\n",
        "sum_purchases = np.array(sum_purchases)\n",
        "\n",
        "pearson_corr_np = np.corrcoef(sum_purchases, visits)[0, 1]\n",
        "\n",
        "print(pearson_corr_np)"
      ],
      "metadata": {
        "id": "YLNF7VbeT97Q",
        "colab": {
          "base_uri": "https://localhost:8080/"
        },
        "outputId": "667ff5ac-e90d-438a-9d05-76d69bb11371"
      },
      "execution_count": 25,
      "outputs": [
        {
          "output_type": "stream",
          "name": "stdout",
          "text": [
            "-0.2934882463344907\n",
            "-0.2934882463344908\n"
          ]
        }
      ]
    },
    {
      "cell_type": "code",
      "source": [
        "import matplotlib.pyplot as plt\n",
        "\n",
        "plt.scatter(sum_purchases, visits)\n",
        "plt.title('Scatter Plot of Purchases vs. Visits')\n",
        "plt.xlabel('Sum of Purchases')\n",
        "plt.ylabel('Number of Visits');"
      ],
      "metadata": {
        "colab": {
          "base_uri": "https://localhost:8080/",
          "height": 472
        },
        "id": "gaeoGA-5Prr1",
        "outputId": "0906ee08-2d8b-4bfe-c305-b6dba9281a8f"
      },
      "execution_count": 18,
      "outputs": [
        {
          "output_type": "display_data",
          "data": {
            "text/plain": [
              "<Figure size 640x480 with 1 Axes>"
            ],
            "image/png": "[encoded data removed]"
          },
          "metadata": {}
        }
      ]
    },
    {
      "cell_type": "markdown",
      "source": [
        "**Завдання 7**. В попередньому завданні ми помітили, що викиди нам заважають отримати \"правдиве\" значення кореляції. Давайте вилучимо записи, які відповідають значенням з викидами в сумі покупок і обчисліть коеф. кореляції. Для цього поставте `threshold`, який дорінює середньому значенню + 2 стандартних вдіхилля суми покупок і всі значення, які більше за нього, будемо вважати викидами (є і інші правила для визначення викидів - з ним и познайомимось пізніше).\n",
        "\n",
        "Вилучіть значення з обох масивів і обчисліть коеф. кореляції Пірсона з допомогою `numpy` для кількості візитів і суми покупок без записів-викидів. Виведіть результат на екран, побудуйте діаграму розсіювання і проаналізуйте результат: що можемо сказати про залежність в даних?"
      ],
      "metadata": {
        "id": "4pEg0KzSQ6KA"
      }
    },
    {
      "cell_type": "code",
      "source": [
        "sum_purchases = np.array(sum_purchases)\n",
        "visits = np.array(visits)\n",
        "\n",
        "mean_purchase = np.mean(sum_purchases)\n",
        "std_purchase = np.std(sum_purchases)\n",
        "\n",
        "threshold = mean_purchase + 2 * std_purchase\n",
        "\n",
        "filtered_indices = sum_purchases <= threshold\n",
        "\n",
        "filtered_sum_purchases = sum_purchases[filtered_indices]\n",
        "filtered_visits = visits[filtered_indices]\n",
        "\n",
        "pearson_corr_filtered = np.corrcoef(filtered_sum_purchases, filtered_visits)[0, 1]\n",
        "\n",
        "print(pearson_corr_filtered)\n",
        "\n",
        "plt.scatter(filtered_sum_purchases, filtered_visits)\n",
        "plt.title('Scatter Plot of Purchases vs. Visits (Без викидів)')\n",
        "plt.xlabel('Sum of Purchases')\n",
        "plt.ylabel('Number of Visits')\n",
        "plt.show()"
      ],
      "metadata": {
        "id": "Yj3Yfaf7UBbc",
        "colab": {
          "base_uri": "https://localhost:8080/",
          "height": 489
        },
        "outputId": "488cd6a7-bee6-4a25-a69c-3bbbb3eea1a9"
      },
      "execution_count": 27,
      "outputs": [
        {
          "output_type": "stream",
          "name": "stdout",
          "text": [
            "-0.02083110629979742\n"
          ]
        },
        {
          "output_type": "display_data",
          "data": {
            "text/plain": [
              "<Figure size 640x480 with 1 Axes>"
            ],
            "image/png": "[encoded data removed]"
          },
          "metadata": {}
        }
      ]
    }
  ]
}